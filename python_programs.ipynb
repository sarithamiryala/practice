{
 "cells": [
  {
   "cell_type": "code",
   "execution_count": 1,
   "id": "637f67cb",
   "metadata": {},
   "outputs": [],
   "source": [
    "# 1. Armstrong number"
   ]
  },
  {
   "cell_type": "code",
   "execution_count": 7,
   "id": "f8d62baa",
   "metadata": {},
   "outputs": [
    {
     "name": "stdout",
     "output_type": "stream",
     "text": [
      "1\n",
      "64\n",
      "125\n",
      "153\n",
      "216\n",
      "370\n",
      "371\n",
      "407\n",
      "729\n"
     ]
    }
   ],
   "source": [
    "for i in range(1001):\n",
    "    num=i\n",
    "    result=0\n",
    "    n=len(str(i))\n",
    "    while(i!=0):\n",
    "        d = i%10\n",
    "        result = result+d**3\n",
    "        i = i//10\n",
    "        if num==result:\n",
    "            print(num)\n",
    "            \n",
    "    "
   ]
  },
  {
   "cell_type": "code",
   "execution_count": 8,
   "id": "1a989f63",
   "metadata": {},
   "outputs": [],
   "source": [
    "#2. pattern program"
   ]
  },
  {
   "cell_type": "code",
   "execution_count": 16,
   "id": "6b072d28",
   "metadata": {},
   "outputs": [
    {
     "name": "stdout",
     "output_type": "stream",
     "text": [
      "Enter the number of rows4\n",
      "1 \n",
      "\n",
      "1 2 \n",
      "\n",
      "1 2 3 \n",
      "\n",
      "1 2 3 4 \n",
      "\n"
     ]
    }
   ],
   "source": [
    "n = int(input('Enter the number of rows'))\n",
    "for i in range(1,n+1):\n",
    "    for j in range(1,i+1):\n",
    "        print(j,end=' ')\n",
    "    print('\\n')"
   ]
  },
  {
   "cell_type": "code",
   "execution_count": 20,
   "id": "fdc89d57",
   "metadata": {},
   "outputs": [
    {
     "name": "stdout",
     "output_type": "stream",
     "text": [
      "1\n",
      "22\n",
      "333\n",
      "4444\n",
      "55555\n"
     ]
    }
   ],
   "source": [
    "n = 5\n",
    "for i in range(1,n+1):\n",
    "    for j in range(1,i+1):\n",
    "        print(i,end='')\n",
    "    print()"
   ]
  },
  {
   "cell_type": "code",
   "execution_count": 21,
   "id": "fbbf0701",
   "metadata": {},
   "outputs": [],
   "source": [
    "#pattern program"
   ]
  },
  {
   "cell_type": "code",
   "execution_count": 25,
   "id": "47fc56f9",
   "metadata": {},
   "outputs": [
    {
     "name": "stdout",
     "output_type": "stream",
     "text": [
      "Enter the number of rows5\n",
      "*****\n",
      "*****\n",
      "*****\n",
      "*****\n",
      "*****\n"
     ]
    }
   ],
   "source": [
    "n = int(input('Enter the number of rows'))\n",
    "for i in range(n):\n",
    "    for j in range(n):\n",
    "        print('*',end='')\n",
    "    print()\n",
    "        "
   ]
  },
  {
   "cell_type": "code",
   "execution_count": 32,
   "id": "880901fc",
   "metadata": {},
   "outputs": [
    {
     "name": "stdout",
     "output_type": "stream",
     "text": [
      "Enter the number of rows5\n",
      "*    \n",
      "**   \n",
      "* *  \n",
      "*  * \n",
      "*****\n"
     ]
    }
   ],
   "source": [
    "n = int(input('Enter the number of rows'))\n",
    "for i in range(n):\n",
    "    for j in range(n):\n",
    "        if j==0 or i==(n-1) or i==j:\n",
    "            print('*',end='')\n",
    "        else:\n",
    "            print(end=' ')\n",
    "    print()"
   ]
  },
  {
   "cell_type": "code",
   "execution_count": 33,
   "id": "82120ddb",
   "metadata": {},
   "outputs": [],
   "source": [
    "#3 factorial"
   ]
  },
  {
   "cell_type": "code",
   "execution_count": 39,
   "id": "e536e2dc",
   "metadata": {},
   "outputs": [
    {
     "name": "stdout",
     "output_type": "stream",
     "text": [
      "Enter the number:5\n",
      "factorial of 5 is 120\n"
     ]
    }
   ],
   "source": [
    "#inbuilt function\n",
    "import math\n",
    "n = int(input('Enter the number:'))\n",
    "result = math.factorial(n)\n",
    "print(\"factorial of\",n,\"is\", result)"
   ]
  },
  {
   "cell_type": "code",
   "execution_count": 47,
   "id": "e4dbe742",
   "metadata": {},
   "outputs": [
    {
     "name": "stdout",
     "output_type": "stream",
     "text": [
      "Enter the value of n:7\n",
      "Factorial of 7 number is  5040\n"
     ]
    }
   ],
   "source": [
    "#without using builtin function\n",
    "n = int(input('Enter the value of n:'))\n",
    "n1=n\n",
    "fact =1\n",
    "if n<0:\n",
    "    print('Number cannot be negative')\n",
    "elif n==0 or n==1:\n",
    "    fact = 1\n",
    "    print(fact)\n",
    "else:\n",
    "    \n",
    "    while(n!=0):\n",
    "        fact = fact*n\n",
    "        n-=1\n",
    "    print('Factorial of',n1,'number is ',fact)\n",
    "        "
   ]
  },
  {
   "cell_type": "code",
   "execution_count": 1,
   "id": "4ff48b00",
   "metadata": {},
   "outputs": [],
   "source": [
    "# using recursion\n",
    "def fact(n):\n",
    "    if n ==0:\n",
    "        return 1\n",
    "    elif n<0:\n",
    "        return 'Number cannot be negative'\n",
    "    else:\n",
    "        return n*fact(n-1)"
   ]
  },
  {
   "cell_type": "code",
   "execution_count": 2,
   "id": "9979fcea",
   "metadata": {},
   "outputs": [
    {
     "name": "stdout",
     "output_type": "stream",
     "text": [
      "Enter the value of n:-1\n"
     ]
    },
    {
     "data": {
      "text/plain": [
       "'Number cannot be negative'"
      ]
     },
     "execution_count": 2,
     "metadata": {},
     "output_type": "execute_result"
    }
   ],
   "source": [
    "n = int(input('Enter the value of n:'))\n",
    "\n",
    "fact(n)"
   ]
  },
  {
   "cell_type": "code",
   "execution_count": 4,
   "id": "4fbd4e30",
   "metadata": {},
   "outputs": [
    {
     "name": "stdout",
     "output_type": "stream",
     "text": [
      "Enter the value of n:5\n",
      "120\n"
     ]
    }
   ],
   "source": [
    "n = int(input('Enter the value of n:'))\n",
    "fact=1\n",
    "if n==0:\n",
    "    print(fact)\n",
    "elif n<0:\n",
    "    print('number should be positive')\n",
    "else:\n",
    "    for i in range(1,n+1):\n",
    "        fact = fact*i\n",
    "print(fact)"
   ]
  },
  {
   "cell_type": "code",
   "execution_count": 5,
   "id": "9469fa92",
   "metadata": {},
   "outputs": [],
   "source": [
    "#pattern"
   ]
  },
  {
   "cell_type": "code",
   "execution_count": 6,
   "id": "f90273df",
   "metadata": {},
   "outputs": [
    {
     "name": "stdout",
     "output_type": "stream",
     "text": [
      "*****\n",
      " *  *\n",
      "  * *\n",
      "   **\n",
      "    *\n"
     ]
    }
   ],
   "source": [
    "for i in range(n):\n",
    "    for j in range(n):\n",
    "        if i==0 or j==(n-1) or i==j:\n",
    "            print('*',end='')\n",
    "        else:\n",
    "            print(end=' ')\n",
    "    print()"
   ]
  },
  {
   "cell_type": "code",
   "execution_count": 13,
   "id": "0262290b",
   "metadata": {},
   "outputs": [
    {
     "name": "stdout",
     "output_type": "stream",
     "text": [
      "Enter the value of n:5\n",
      "1 \n",
      "2 3 \n",
      "4 5 6 \n",
      "7 8 9 10 \n",
      "11 12 13 14 15 \n"
     ]
    }
   ],
   "source": [
    "n = int(input('Enter the value of n:'))\n",
    "num =1\n",
    "for i in range(1,n+1):\n",
    "    for j in range(1,i+1):\n",
    "        print(num,end=' ')\n",
    "        num+=1\n",
    "    print()\n",
    "        "
   ]
  },
  {
   "cell_type": "code",
   "execution_count": 18,
   "id": "70a67305",
   "metadata": {},
   "outputs": [
    {
     "name": "stdout",
     "output_type": "stream",
     "text": [
      "Enter any string:python\n",
      "p\n",
      "py\n",
      "pyt\n",
      "pyth\n",
      "pytho\n",
      "python\n"
     ]
    }
   ],
   "source": [
    "str1 = input('Enter any string:')\n",
    "l = len(str1)\n",
    "for i in range(l):\n",
    "    for j in range(0,i+1):\n",
    "        print(str1[j],end='')\n",
    "    print()"
   ]
  },
  {
   "cell_type": "code",
   "execution_count": 19,
   "id": "cc4bbadd",
   "metadata": {},
   "outputs": [],
   "source": [
    "#lcm"
   ]
  },
  {
   "cell_type": "code",
   "execution_count": 25,
   "id": "0fbe0a94",
   "metadata": {},
   "outputs": [
    {
     "name": "stdout",
     "output_type": "stream",
     "text": [
      "Enter the 1st number24\n",
      "Enter the 2nd number36\n",
      "lCM of 24 and 36 is 72\n"
     ]
    }
   ],
   "source": [
    "def compute_lcm(a,b):\n",
    "    if n1>n2:\n",
    "        higher = n1\n",
    "    else:\n",
    "        higher = n2\n",
    "    value = higher\n",
    "    while True:\n",
    "        if higher%n1==0 and higher%n2==0:\n",
    "            print(\"lCM of\",n1,\"and\",n2,\"is\",higher)\n",
    "            break\n",
    "        else:\n",
    "            higher = higher+value\n",
    "n1=int(input('Enter the 1st number'))\n",
    "n2=int(input('Enter the 2nd number'))\n",
    "compute_lcm(n1,n2)\n",
    "    "
   ]
  },
  {
   "cell_type": "code",
   "execution_count": 1,
   "id": "d50a3bc0",
   "metadata": {},
   "outputs": [],
   "source": [
    "#Sorting numbers"
   ]
  },
  {
   "cell_type": "code",
   "execution_count": 5,
   "id": "1bc2007b",
   "metadata": {},
   "outputs": [
    {
     "name": "stdout",
     "output_type": "stream",
     "text": [
      "[-5, 0, 1, 2, 3, 23]\n"
     ]
    }
   ],
   "source": [
    "l=[23,1,-5,3,2,0]\n",
    "l1=[]\n",
    "for i in range(len(l)):\n",
    "    for j in range(i+1,len(l)):\n",
    "        if l[i]>l[j]:\n",
    "            l[i],l[j]=l[j],l[i]\n",
    "print(l)"
   ]
  },
  {
   "cell_type": "code",
   "execution_count": 18,
   "id": "28923ca5",
   "metadata": {},
   "outputs": [],
   "source": [
    "sum=0\n",
    "l =[2,2,2,2,2]\n",
    "count =0\n",
    "for i in l:\n",
    "    count =count+1\n",
    "for i in l:\n",
    "    sum = sum+i\n",
    "    "
   ]
  },
  {
   "cell_type": "code",
   "execution_count": 19,
   "id": "a61da44c",
   "metadata": {},
   "outputs": [
    {
     "data": {
      "text/plain": [
       "10"
      ]
     },
     "execution_count": 19,
     "metadata": {},
     "output_type": "execute_result"
    }
   ],
   "source": [
    "sum"
   ]
  },
  {
   "cell_type": "code",
   "execution_count": null,
   "id": "77454f92",
   "metadata": {},
   "outputs": [],
   "source": []
  },
  {
   "cell_type": "code",
   "execution_count": 20,
   "id": "e8c9d3bb",
   "metadata": {},
   "outputs": [
    {
     "data": {
      "text/plain": [
       "5"
      ]
     },
     "execution_count": 20,
     "metadata": {},
     "output_type": "execute_result"
    }
   ],
   "source": [
    "count"
   ]
  },
  {
   "cell_type": "code",
   "execution_count": 21,
   "id": "4dc1ec6d",
   "metadata": {},
   "outputs": [],
   "source": []
  },
  {
   "cell_type": "code",
   "execution_count": 38,
   "id": "73bc0234",
   "metadata": {},
   "outputs": [
    {
     "name": "stdout",
     "output_type": "stream",
     "text": [
      "sorted list is [1, 2, 3, 4, 5, 6]\n",
      "median of list is: 3.5\n"
     ]
    }
   ],
   "source": [
    "#median\n",
    "x = [1,3,4,6,2,5]\n",
    "n=0\n",
    "#finding length of list\n",
    "for i in x:\n",
    "    n=n+1\n",
    "# sorting in ascending order\n",
    "for i in range(0,n):\n",
    "    for j in range(i+1,n):\n",
    "        if x[i]>x[j]:\n",
    "            x[i],x[j]=x[j],x[i]\n",
    "print('sorted list is',x)\n",
    "# finding median\n",
    "if n%2!=0:\n",
    "    median = x[n//2]\n",
    "else:\n",
    "    median1 = x[n//2]\n",
    "    median2 = x[n//2-1]\n",
    "    median = (median1+median2)/2\n",
    "print('median of list is:',median)"
   ]
  },
  {
   "cell_type": "code",
   "execution_count": 39,
   "id": "3776e7b7",
   "metadata": {},
   "outputs": [],
   "source": [
    "#mean of given numbers"
   ]
  },
  {
   "cell_type": "code",
   "execution_count": 42,
   "id": "ac467dd2",
   "metadata": {},
   "outputs": [
    {
     "name": "stdout",
     "output_type": "stream",
     "text": [
      "given list: [1, 2, 3, 4, 5]\n",
      "mean of given numbers is: 3.0\n"
     ]
    }
   ],
   "source": [
    "x1=[1,2,3,4,5]\n",
    "print('given list:',x1)\n",
    "sum =0\n",
    "n= 0\n",
    "for i in x1:\n",
    "    n = n+1\n",
    "for i in x1:\n",
    "    sum=sum+i\n",
    "mean = sum/n\n",
    "print('mean of given numbers is:',mean)"
   ]
  },
  {
   "cell_type": "code",
   "execution_count": 31,
   "id": "5969e40e",
   "metadata": {},
   "outputs": [
    {
     "data": {
      "text/plain": [
       "3.1666666666666665"
      ]
     },
     "execution_count": 31,
     "metadata": {},
     "output_type": "execute_result"
    }
   ],
   "source": [
    "mean"
   ]
  },
  {
   "cell_type": "code",
   "execution_count": null,
   "id": "fb808a90",
   "metadata": {},
   "outputs": [],
   "source": []
  }
 ],
 "metadata": {
  "kernelspec": {
   "display_name": "Python 3 (ipykernel)",
   "language": "python",
   "name": "python3"
  },
  "language_info": {
   "codemirror_mode": {
    "name": "ipython",
    "version": 3
   },
   "file_extension": ".py",
   "mimetype": "text/x-python",
   "name": "python",
   "nbconvert_exporter": "python",
   "pygments_lexer": "ipython3",
   "version": "3.9.7"
  }
 },
 "nbformat": 4,
 "nbformat_minor": 5
}
